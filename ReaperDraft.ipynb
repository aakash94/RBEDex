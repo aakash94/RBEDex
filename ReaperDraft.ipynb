{
 "cells": [
  {
   "cell_type": "code",
   "execution_count": 1,
   "metadata": {},
   "outputs": [],
   "source": [
    "\n",
    "import numpy as np\n",
    "from collections import defaultdict \n",
    "import os\n",
    "import json\n",
    "import shutil"
   ]
  },
  {
   "cell_type": "code",
   "execution_count": 2,
   "metadata": {},
   "outputs": [],
   "source": [
    "path = \"Runs/\""
   ]
  },
  {
   "cell_type": "code",
   "execution_count": 3,
   "metadata": {},
   "outputs": [],
   "source": [
    "def create_folder(directory):\n",
    "    try:\n",
    "        if not os.path.exists(directory):\n",
    "            os.makedirs(directory)\n",
    "        else:\n",
    "            shutil.rmtree(directory)   \n",
    "            os.makedirs(directory)\n",
    "    except Error:\n",
    "        print ('Error: unable to create' +  directory)\n",
    "\n",
    "def get_list_folders(path):\n",
    "    count = 0\n",
    "    folders = []\n",
    "    for i in os.listdir(path):\n",
    "        full_path = path+i\n",
    "        if os.path.isdir(full_path):\n",
    "            folders.append(full_path)\n",
    "    return folders\n",
    "\n",
    "def get_relevant_folder_count(path):\n",
    "    count = 0\n",
    "    for i in os.listdir(path):\n",
    "        full_path = path+i\n",
    "        if os.path.isdir(full_path) and i.isdigit():\n",
    "            count +=1\n",
    "    return count\n",
    "    \n",
    "def get_list_of_json(path):\n",
    "    json_paths = []\n",
    "    file_path = '/metrics.json'\n",
    "    for i in range(1, get_relevant_folder_count(path)+1):\n",
    "        full_path = path+str(i)+file_path\n",
    "        json_paths.append(full_path)\n",
    "    return json_paths"
   ]
  },
  {
   "cell_type": "code",
   "execution_count": 4,
   "metadata": {},
   "outputs": [],
   "source": [
    "REWARD_VAL = \"REWARD\"\n",
    "EPSILON_VAL = \"EPSILON\"\n",
    "SOLVEDAT_VAL = \"SOLVEDAT\"\n",
    "VALUE_KEY = \"values\""
   ]
  },
  {
   "cell_type": "code",
   "execution_count": 5,
   "metadata": {},
   "outputs": [],
   "source": [
    "for folder in get_list_folders(path):\n",
    "    # each folder is an experiment\n",
    "    # average values so that each experiment can contribute only 1 value\n",
    "    folder+=\"/\"\n",
    "    destination = folder+\"results/\"\n",
    "    \n",
    "    destination_epsilon = destination+\"average_apsilon.csv\"\n",
    "    destination_reward = destination+\"average_reward.csv\"\n",
    "    destination_solvedat = destination+\"solvedat.json\"\n",
    "    \n",
    "    create_folder(destination)\n",
    "    \n",
    "    files = get_list_of_json(folder)\n",
    "    num_run = len(files)\n",
    "    \n",
    "    file = files[0]\n",
    "    # assuming number of ep is the max number of episodes per run\n",
    "    num_ep = len(json.load(open(file))[EPSILON_VAL][VALUE_KEY])\n",
    "    \n",
    "    np_reward = np.zeros((num_run, num_ep))\n",
    "    np_epsilon = np.zeros((num_run, num_ep))\n",
    "    solved_counter = defaultdict(int)\n",
    "    \n",
    "    for i, file in enumerate(files):\n",
    "        data = json.load(open(file))\n",
    "        \n",
    "        list_epsilon = data[EPSILON_VAL][VALUE_KEY]\n",
    "        list_reward = data[REWARD_VAL][VALUE_KEY]\n",
    "        solved_at = data[SOLVEDAT_VAL][VALUE_KEY][0]\n",
    "        \n",
    "        solved_counter[solved_at] += 1\n",
    "        \n",
    "        np_reward[i] = list_reward\n",
    "        np_epsilon[i] = list_epsilon\n",
    "    \n",
    "    np_reward = np.mean(np_reward, axis=0)\n",
    "    np_epsilon = np.mean(np_epsilon, axis=0)\n",
    "        \n",
    "    # print(\"REWARD\\t\",np_reward)\n",
    "    # print(\"\\n\\n\\nEPSILON\\t\",np_epsilon)\n",
    "    # print(\"\\n\\n\\nSolved Counter\\t\",solved_counter)\n",
    "\n",
    "    np.savetxt(destination_epsilon, np_epsilon, delimiter=',')\n",
    "    np.savetxt(destination_reward, np_reward, delimiter=',')\n",
    "    json_w = json.dumps(solved_counter)\n",
    "    f = open(destination_solvedat,\"w\")\n",
    "    f.write(json_w)\n",
    "    f.close()\n"
   ]
  },
  {
   "cell_type": "code",
   "execution_count": null,
   "metadata": {},
   "outputs": [],
   "source": []
  }
 ],
 "metadata": {
  "kernelspec": {
   "display_name": "Python 3",
   "language": "python",
   "name": "python3"
  },
  "language_info": {
   "codemirror_mode": {
    "name": "ipython",
    "version": 3
   },
   "file_extension": ".py",
   "mimetype": "text/x-python",
   "name": "python",
   "nbconvert_exporter": "python",
   "pygments_lexer": "ipython3",
   "version": "3.7.6"
  }
 },
 "nbformat": 4,
 "nbformat_minor": 4
}
