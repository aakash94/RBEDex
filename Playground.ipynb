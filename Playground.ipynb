{
 "cells": [
  {
   "cell_type": "code",
   "execution_count": 1,
   "metadata": {},
   "outputs": [],
   "source": [
    "import pandas as pd\n",
    "import os\n",
    "import json"
   ]
  },
  {
   "cell_type": "code",
   "execution_count": 2,
   "metadata": {},
   "outputs": [],
   "source": [
    "path = \"Runs/T1/\""
   ]
  },
  {
   "cell_type": "code",
   "execution_count": 3,
   "metadata": {},
   "outputs": [],
   "source": [
    "def get_relevant_folder_count(path):\n",
    "    count = 0\n",
    "    for i in os.listdir(path):\n",
    "        full_path = path+i\n",
    "        if os.path.isdir(full_path) and i.isdigit():\n",
    "            count +=1\n",
    "    return count\n",
    "    \n",
    "def get_list_of_json(path):\n",
    "    json_paths = []\n",
    "    file_path = '/metrics.json'\n",
    "    for i in range(1, get_relevant_folder_count(path)+1):\n",
    "        full_path = path+str(i)+file_path\n",
    "        json_paths.append(full_path)\n",
    "    return json_paths"
   ]
  },
  {
   "cell_type": "code",
   "execution_count": 4,
   "metadata": {},
   "outputs": [],
   "source": [
    "files = get_list_of_json(path)\n",
    "file = files[0]"
   ]
  },
  {
   "cell_type": "code",
   "execution_count": 5,
   "metadata": {},
   "outputs": [],
   "source": [
    "data = json.load(open(file))\n",
    "\n",
    "#print(data)"
   ]
  },
  {
   "cell_type": "code",
   "execution_count": 8,
   "metadata": {},
   "outputs": [],
   "source": [
    "REWARD_VAL = \"param2\"\n",
    "EPSILON_VAL = \"param1\"\n",
    "VALUE_KEY = \"values\""
   ]
  },
  {
   "cell_type": "code",
   "execution_count": 9,
   "metadata": {},
   "outputs": [
    {
     "name": "stdout",
     "output_type": "stream",
     "text": [
      "[64.0, 8.0, 1.0, 0.125, 0.015625]\n"
     ]
    }
   ],
   "source": [
    "print(data[REWARD_VAL][VALUE_KEY])"
   ]
  },
  {
   "cell_type": "code",
   "execution_count": 12,
   "metadata": {},
   "outputs": [
    {
     "name": "stdout",
     "output_type": "stream",
     "text": [
      "[64.0, 8.0, 1.0, 0.125, 0.015625]\n",
      "None \n",
      "\n",
      "\n",
      "[15625, 1953125, 244140625, 30517578125, 3814697265625]\n",
      "None \n",
      "\n",
      "\n",
      "[0.7290000000000001, 0.531441, 0.38742048900000015, 0.28242953648100017, 0.20589113209464918, 0.15009463529699926, 0.10941898913151245, 0.0797664430768726, 0.058149737003040124, 0.04239115827521626]\n",
      "None \n",
      "\n",
      "\n",
      "[0.0007289999999999999, 5.314409999999999e-07, 3.874204889999999e-10, 2.824295364809999e-13, 2.058911320946489e-16, 1.5009463529699901e-19, 1.0941898913151226e-22, 7.976644307687242e-26, 5.814973700304e-29, 4.239115827521616e-32]\n",
      "None \n",
      "\n",
      "\n",
      "[7.289999999999998e-07, 5.314409999999998e-13, 3.874204889999997e-19, 2.824295364809997e-25, 2.058911320946487e-31, 1.5009463529699885e-37, 1.0941898913151213e-43, 7.976644307687233e-50, 5.814973700303991e-56, 4.239115827521609e-62]\n",
      "None \n",
      "\n",
      "\n",
      "[0.970299, 0.9414801494009999, 0.9135172474836406, 0.8863848717161291, 0.8600583546412883, 0.8345137614500873, 0.8097278682212583, 0.7856781408072185]\n",
      "None \n",
      "\n",
      "\n"
     ]
    }
   ],
   "source": [
    "for file in files:\n",
    "    data = json.load(open(file))\n",
    "    values = print(data[REWARD_VAL][VALUE_KEY])\n",
    "    print(values,\"\\n\\n\")\n",
    "    "
   ]
  },
  {
   "cell_type": "code",
   "execution_count": null,
   "metadata": {},
   "outputs": [],
   "source": []
  }
 ],
 "metadata": {
  "kernelspec": {
   "display_name": "Python 3",
   "language": "python",
   "name": "python3"
  },
  "language_info": {
   "codemirror_mode": {
    "name": "ipython",
    "version": 3
   },
   "file_extension": ".py",
   "mimetype": "text/x-python",
   "name": "python",
   "nbconvert_exporter": "python",
   "pygments_lexer": "ipython3",
   "version": "3.7.6"
  }
 },
 "nbformat": 4,
 "nbformat_minor": 4
}
