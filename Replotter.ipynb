{
 "cells": [
  {
   "cell_type": "code",
   "execution_count": 25,
   "metadata": {},
   "outputs": [],
   "source": [
    "%matplotlib notebook\n",
    "%matplotlib inline\n",
    "import numpy as np\n",
    "from collections import defaultdict \n",
    "import os\n",
    "import json\n",
    "import shutil\n",
    "from matplotlib import pyplot as plt"
   ]
  },
  {
   "cell_type": "code",
   "execution_count": 26,
   "metadata": {},
   "outputs": [],
   "source": [
    "path = \"Runs/\""
   ]
  },
  {
   "cell_type": "code",
   "execution_count": 27,
   "metadata": {},
   "outputs": [],
   "source": [
    "def create_folder(directory):\n",
    "    try:\n",
    "        if not os.path.exists(directory):\n",
    "            os.makedirs(directory)\n",
    "        else:\n",
    "            shutil.rmtree(directory)   \n",
    "            os.makedirs(directory)\n",
    "    except Error:\n",
    "        print ('Error: unable to create' +  directory)\n",
    "\n",
    "def get_list_folders(path):\n",
    "    count = 0\n",
    "    folders = []\n",
    "    for i in os.listdir(path):\n",
    "        full_path = path+i\n",
    "        if os.path.isdir(full_path):\n",
    "            folders.append(full_path)\n",
    "    return folders\n",
    "\n",
    "def get_relevant_folder_count(path):\n",
    "    count = 0\n",
    "    for i in os.listdir(path):\n",
    "        full_path = path+i\n",
    "        if os.path.isdir(full_path) and i.isdigit():\n",
    "            count +=1\n",
    "    return count\n",
    "    \n",
    "def get_list_of_json(path):\n",
    "    json_paths = []\n",
    "    file_path = '/metrics.json'\n",
    "    for i in range(1, get_relevant_folder_count(path)+1):\n",
    "        full_path = path+str(i)+file_path\n",
    "        json_paths.append(full_path)\n",
    "    return json_paths"
   ]
  },
  {
   "cell_type": "code",
   "execution_count": 32,
   "metadata": {},
   "outputs": [],
   "source": [
    "REWARD_VAL = \"REWARD\"\n",
    "EPSILON_VAL = \"EPSILON\"\n",
    "SOLVEDAT_VAL = \"SOLVEDAT\"\n",
    "AVG100_VAL = \"AVG100\"\n",
    "VALUE_KEY = \"values\""
   ]
  },
  {
   "cell_type": "code",
   "execution_count": 33,
   "metadata": {},
   "outputs": [
    {
     "data": {
      "image/png": "[encoded data removed]",
      "text/plain": [
       "<Figure size 432x288 with 1 Axes>"
      ]
     },
     "metadata": {
      "needs_background": "light"
     },
     "output_type": "display_data"
    }
   ],
   "source": [
    "for folder in get_list_folders(path):\n",
    "    # each folder is an experiment\n",
    "    # average values so that each experiment can contribute only 1 value\n",
    "    folder+=\"/\"\n",
    "#     destination = folder+\"results/\"\n",
    "    \n",
    "#     destination_epsilon = destination+\"average_apsilon.csv\"\n",
    "#     destination_reward = destination+\"average_reward.csv\"\n",
    "#     destination_solvedat = destination+\"solvedat.json\"\n",
    "    \n",
    "#     create_folder(destination)\n",
    "    \n",
    "    files = get_list_of_json(folder)\n",
    "    num_run = len(files)\n",
    "    \n",
    "    file = files[0]\n",
    "    # assuming number of ep is the max number of episodes per run\n",
    "    num_ep = len(json.load(open(file))[EPSILON_VAL][VALUE_KEY])\n",
    "    \n",
    "    \n",
    "    for i, file in enumerate(files):\n",
    "        \n",
    "        folder_num = str(i+1)\n",
    "        current_folder = folder+\"\"+folder_num+\"/graphs/\"\n",
    "        data = json.load(open(file))\n",
    "        \n",
    "        list_epsilon = data[EPSILON_VAL][VALUE_KEY]\n",
    "        list_reward = data[REWARD_VAL][VALUE_KEY]\n",
    "        list_avg100 = data[AVG100_VAL][VALUE_KEY]\n",
    "        solved_at = data[SOLVEDAT_VAL][VALUE_KEY][0]\n",
    "        \n",
    "        plt.clf()\n",
    "        plt.plot(list_epsilon)\n",
    "        plt.xlabel(\"Episode\")\n",
    "        plt.ylabel(\"Epsilon\")\n",
    "        save_path = current_folder +\"epsilon.png\"\n",
    "        plt.savefig(save_path)\n",
    "        \n",
    "        plt.clf()\n",
    "        plt.plot(list_reward)\n",
    "        plt.xlabel(\"Episode\")\n",
    "        plt.ylabel(\"Reward\")\n",
    "        save_path = current_folder +\"reward.png\"\n",
    "        plt.savefig(save_path)\n",
    "        \n",
    "        plt.clf()\n",
    "        plt.plot(list_avg100)\n",
    "        plt.xlabel(\"Episode\")\n",
    "        plt.ylabel(\"Avg100\")\n",
    "        save_path = current_folder +\"avg100.png\"\n",
    "        plt.savefig(save_path)\n",
    "        \n",
    "        \n",
    "#         print(\"\\n\\n\\n\\n\",i,\"\\t\",folder)\n",
    "#         print(\"\\n\\nlist ep\", list_epsilon[:10])\n",
    "#         print(\"\\n\\nlist reward\", list_reward[:10])\n",
    "        \n",
    "#         np_reward[i] = list_reward\n",
    "#         np_epsilon[i] = list_epsilon\n",
    "    \n",
    "#     np_reward = np.mean(np_reward, axis=0)\n",
    "#     np_epsilon = np.mean(np_epsilon, axis=0)\n",
    "        \n",
    "#     print(\"REWARD\\t\",np_reward)\n",
    "#     print(\"\\n\\n\\nEPSILON\\t\",np_epsilon)\n",
    "#     print(\"\\n\\n\\nSolved Counter\\t\",solved_counter)\n",
    "\n",
    "#     np.savetxt(destination_epsilon, np_epsilon, delimiter=',')\n",
    "#     np.savetxt(destination_reward, np_reward, delimiter=',')\n",
    "#     json_w = json.dumps(solved_counter)\n",
    "#     f = open(destination_solvedat,\"w\")\n",
    "#     f.write(json_w)\n",
    "#     f.close()\n"
   ]
  },
  {
   "cell_type": "code",
   "execution_count": null,
   "metadata": {},
   "outputs": [],
   "source": []
  }
 ],
 "metadata": {
  "kernelspec": {
   "display_name": "Python 3",
   "language": "python",
   "name": "python3"
  },
  "language_info": {
   "codemirror_mode": {
    "name": "ipython",
    "version": 3
   },
   "file_extension": ".py",
   "mimetype": "text/x-python",
   "name": "python",
   "nbconvert_exporter": "python",
   "pygments_lexer": "ipython3",
   "version": "3.7.6"
  }
 },
 "nbformat": 4,
 "nbformat_minor": 4
}
